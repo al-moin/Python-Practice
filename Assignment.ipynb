{
 "cells": [
  {
   "cell_type": "markdown",
   "id": "fb4b1ecf-fbe3-4622-9568-233246d01ad5",
   "metadata": {},
   "source": [
    "1. Write a program that swaps the values of two variables."
   ]
  },
  {
   "cell_type": "code",
   "execution_count": 5,
   "id": "8a0c654e-d2e5-444d-8741-ae5942e0c89c",
   "metadata": {},
   "outputs": [
    {
     "name": "stdout",
     "output_type": "stream",
     "text": [
      "(7, 5)\n"
     ]
    }
   ],
   "source": [
    "def swap(a,b):\n",
    "    return (b,a)\n",
    "a = 5\n",
    "b = 7\n",
    "result = swap(a, b)\n",
    "print(result)"
   ]
  },
  {
   "cell_type": "markdown",
   "id": "448a804f",
   "metadata": {},
   "source": [
    "2. Write a program that calculates the area of a rectangle given its length and width."
   ]
  },
  {
   "cell_type": "code",
   "execution_count": 6,
   "id": "ac69801d",
   "metadata": {},
   "outputs": [
    {
     "data": {
      "text/plain": [
       "15"
      ]
     },
     "execution_count": 6,
     "metadata": {},
     "output_type": "execute_result"
    }
   ],
   "source": [
    "l=3\n",
    "w=5\n",
    "area=l*w\n",
    "area"
   ]
  },
  {
   "cell_type": "markdown",
   "id": "5f8f5fbd",
   "metadata": {},
   "source": [
    "3. Write a program that converts temperature from Fahrenheit to Celsius."
   ]
  },
  {
   "cell_type": "code",
   "execution_count": 9,
   "id": "707a513c",
   "metadata": {},
   "outputs": [
    {
     "data": {
      "text/plain": [
       "147.77777777777777"
      ]
     },
     "execution_count": 9,
     "metadata": {},
     "output_type": "execute_result"
    }
   ],
   "source": [
    "F=298\n",
    "C = (F - 32) * 5/9\n",
    "C"
   ]
  },
  {
   "cell_type": "code",
   "execution_count": 10,
   "id": "d8a01a66",
   "metadata": {},
   "outputs": [
    {
     "data": {
      "text/plain": [
       "212.0"
      ]
     },
     "execution_count": 10,
     "metadata": {},
     "output_type": "execute_result"
    }
   ],
   "source": [
    "C=100\n",
    "F = (9/5 * C) + 32\n",
    "F"
   ]
  },
  {
   "cell_type": "markdown",
   "id": "74521387",
   "metadata": {},
   "source": [
    "4. Write a program that calculates the volume of a sphere given its radius."
   ]
  },
  {
   "cell_type": "code",
   "execution_count": 12,
   "id": "2a1052bd",
   "metadata": {},
   "outputs": [
    {
     "data": {
      "text/plain": [
       "523.5999999999999"
      ]
     },
     "execution_count": 12,
     "metadata": {},
     "output_type": "execute_result"
    }
   ],
   "source": [
    "r=5\n",
    "pi=3.1416\n",
    "result=(4/3)*pi*(r*r*r)\n",
    "result"
   ]
  },
  {
   "cell_type": "markdown",
   "id": "a67080d3",
   "metadata": {},
   "source": [
    "5. Write a program that finds the average of three numbers."
   ]
  },
  {
   "cell_type": "code",
   "execution_count": 13,
   "id": "6d9f377f",
   "metadata": {},
   "outputs": [
    {
     "data": {
      "text/plain": [
       "33.333333333333336"
      ]
     },
     "execution_count": 13,
     "metadata": {},
     "output_type": "execute_result"
    }
   ],
   "source": [
    "x=20\n",
    "y=30\n",
    "z=50\n",
    "sum=(x+y+z)\n",
    "average=(sum/3)\n",
    "average"
   ]
  },
  {
   "cell_type": "markdown",
   "id": "abec6d78",
   "metadata": {},
   "source": [
    "6. Write a program that determines if a number is even or odd."
   ]
  },
  {
   "cell_type": "code",
   "execution_count": 5,
   "id": "593b3b0f",
   "metadata": {},
   "outputs": [
    {
     "name": "stdout",
     "output_type": "stream",
     "text": [
      "30 is Even Number\n"
     ]
    }
   ],
   "source": [
    "n=30\n",
    "if n % 2 == 0:\n",
    "    print(n,\"is Even Number\")\n",
    "else :\n",
    "    print(n,\"is Odd Number\")\n"
   ]
  },
  {
   "cell_type": "markdown",
   "id": "c4c6da9a",
   "metadata": {},
   "source": [
    "7. Write a program that finds the maximum of three numbers."
   ]
  },
  {
   "cell_type": "code",
   "execution_count": 20,
   "id": "adf573d8",
   "metadata": {},
   "outputs": [
    {
     "name": "stdout",
     "output_type": "stream",
     "text": [
      "The maximum number is 160\n"
     ]
    }
   ],
   "source": [
    "x=90\n",
    "y=150\n",
    "z=160\n",
    "if x >= y and x >= z:\n",
    "    max=x\n",
    "elif y >= x and y >= z:\n",
    "    max=y\n",
    "elif z >= x and z >= x:\n",
    "    max=z\n",
    "print('The maximum number is',max)"
   ]
  },
  {
   "cell_type": "markdown",
   "id": "d238d33a",
   "metadata": {},
   "source": [
    "8. Write a program that determines if a year is a leap year or not."
   ]
  },
  {
   "cell_type": "code",
   "execution_count": 5,
   "id": "3c09b09d",
   "metadata": {},
   "outputs": [
    {
     "name": "stdout",
     "output_type": "stream",
     "text": [
      "This Year is not a leap Year\n"
     ]
    }
   ],
   "source": [
    "def CheckLeap(Year):  \n",
    "  if((Year % 400 == 0) or (Year % 100 != 0) and (Year % 4 == 0)):   \n",
    "    print(\"Yes! This Year is a leap Year\");  \n",
    "  else:  \n",
    "    print (\"This Year is not a leap Year\")  \n",
    "Year = int(input(\"Enter the number here: \"))  \n",
    "CheckLeap(Year)    "
   ]
  },
  {
   "cell_type": "markdown",
   "id": "2978fe08",
   "metadata": {},
   "source": [
    "9. Write a program that determines if a number is positive, negative, or zero."
   ]
  },
  {
   "cell_type": "code",
   "execution_count": 14,
   "id": "6912c391",
   "metadata": {},
   "outputs": [
    {
     "name": "stdout",
     "output_type": "stream",
     "text": [
      "This Number is Zero\n"
     ]
    }
   ],
   "source": [
    "num=int(input('Enter the Number'))\n",
    "if num>0:\n",
    "    print('This Number is positive')\n",
    "elif num<0:\n",
    "    print('This Number is negative')\n",
    "else:\n",
    "    print('This Number is Zero')"
   ]
  },
  {
   "cell_type": "markdown",
   "id": "e822c56b",
   "metadata": {},
   "source": [
    "10. Write a program that calculates the grade based on a given percentage."
   ]
  },
  {
   "cell_type": "code",
   "execution_count": 1,
   "id": "d45a10ec",
   "metadata": {},
   "outputs": [
    {
     "name": "stdout",
     "output_type": "stream",
     "text": [
      "With a percentage of 85, the grade is: B\n"
     ]
    }
   ],
   "source": [
    "per = 85\n",
    "\n",
    "if per >= 90:\n",
    "    grade = 'A'\n",
    "elif per >= 80:\n",
    "    grade = 'B'\n",
    "elif per >= 70:\n",
    "    grade = 'C'\n",
    "elif per >= 60:\n",
    "    grade = 'D'\n",
    "else:\n",
    "    grade = 'F'\n",
    "    \n",
    "print(f\"With a percentage of {per}, the grade is: {grade}\")\n"
   ]
  },
  {
   "cell_type": "markdown",
   "id": "c68ff193",
   "metadata": {},
   "source": [
    "11. Write a program that prints the first n natural numbers."
   ]
  },
  {
   "cell_type": "code",
   "execution_count": 3,
   "id": "0794a501",
   "metadata": {},
   "outputs": [
    {
     "name": "stdout",
     "output_type": "stream",
     "text": [
      "1\n",
      "2\n",
      "3\n",
      "4\n",
      "5\n",
      "6\n",
      "7\n",
      "8\n",
      "9\n",
      "10\n"
     ]
    }
   ],
   "source": [
    "n = 10\n",
    "for i in range(1,n+1):\n",
    "    print(i)\n"
   ]
  },
  {
   "cell_type": "markdown",
   "id": "a915790a",
   "metadata": {},
   "source": [
    "12. Write a program that calculates the factorial of a number."
   ]
  },
  {
   "cell_type": "code",
   "execution_count": 5,
   "id": "68f16f6f",
   "metadata": {},
   "outputs": [
    {
     "name": "stdout",
     "output_type": "stream",
     "text": [
      "The factorial of 5 is: 120\n"
     ]
    }
   ],
   "source": [
    "num = 5\n",
    "fact = 1\n",
    "for i in range(1, num + 1):\n",
    "    fact = fact*i\n",
    "print(f\"The factorial of {num} is: {fact}\")\n"
   ]
  }
 ],
 "metadata": {
  "kernelspec": {
   "display_name": "Python 3 (ipykernel)",
   "language": "python",
   "name": "python3"
  },
  "language_info": {
   "codemirror_mode": {
    "name": "ipython",
    "version": 3
   },
   "file_extension": ".py",
   "mimetype": "text/x-python",
   "name": "python",
   "nbconvert_exporter": "python",
   "pygments_lexer": "ipython3",
   "version": "3.12.5"
  }
 },
 "nbformat": 4,
 "nbformat_minor": 5
}
